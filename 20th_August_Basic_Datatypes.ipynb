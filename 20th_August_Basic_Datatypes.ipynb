{
 "cells": [
  {
   "cell_type": "code",
   "execution_count": 1,
   "id": "7ab67755-f4ee-44fd-91de-9df8245086a2",
   "metadata": {},
   "outputs": [
    {
     "name": "stdout",
     "output_type": "stream",
     "text": [
      "olleH\n"
     ]
    }
   ],
   "source": [
    "str1=\"Hello\"\n",
    "str2=str1[::-1]\n",
    "print(str2)"
   ]
  },
  {
   "cell_type": "code",
   "execution_count": 2,
   "id": "1280efda-7425-4671-9353-80cc0810cdc7",
   "metadata": {},
   "outputs": [
    {
     "name": "stdout",
     "output_type": "stream",
     "text": [
      "string is palindrome\n"
     ]
    }
   ],
   "source": [
    "str1=\"madam\"\n",
    "str2=str1[::-1]\n",
    "if str1==str2:\n",
    "    print(\"string is palindrome\")\n",
    "else:\n",
    "    print(\"string is not palindrome\")"
   ]
  },
  {
   "cell_type": "code",
   "execution_count": 3,
   "id": "44afeeac-2964-4cd4-82ea-5783a0ade34e",
   "metadata": {},
   "outputs": [
    {
     "name": "stdout",
     "output_type": "stream",
     "text": [
      "HEY\n"
     ]
    }
   ],
   "source": [
    "str1=\"hey\"\n",
    "str2=str1.upper()\n",
    "print(str2)"
   ]
  },
  {
   "cell_type": "code",
   "execution_count": 4,
   "id": "6529472b-d52b-4f6e-82e2-f0d20970c258",
   "metadata": {},
   "outputs": [
    {
     "name": "stdout",
     "output_type": "stream",
     "text": [
      "hello\n"
     ]
    }
   ],
   "source": [
    "str1=\"HELLO\"\n",
    "str2=str1.lower()\n",
    "print(str2)"
   ]
  },
  {
   "cell_type": "code",
   "execution_count": 6,
   "id": "5d566c53-7daf-4e49-afa0-160be49c4079",
   "metadata": {},
   "outputs": [
    {
     "name": "stdout",
     "output_type": "stream",
     "text": [
      "5\n"
     ]
    }
   ],
   "source": [
    "str1=\"how are you\"\n",
    "count=0\n",
    "for letter in str1:\n",
    "    if letter=='a' or letter=='e' or letter=='i' or letter=='o' or letter=='u':\n",
    "        count=count+1\n",
    "print(count)"
   ]
  },
  {
   "cell_type": "code",
   "execution_count": 11,
   "id": "3477eed1-383f-4703-8379-74a52a536126",
   "metadata": {},
   "outputs": [
    {
     "name": "stdout",
     "output_type": "stream",
     "text": [
      "4\n"
     ]
    }
   ],
   "source": [
    "str1=\"how are you\"\n",
    "count=0\n",
    "for letter in str1:\n",
    "    if letter=='a' or letter=='e' or letter=='i' or letter=='o' or letter=='u' or letter==\" \":\n",
    "        pass\n",
    "    else:\n",
    "        count=count+1\n",
    "print(count)"
   ]
  },
  {
   "cell_type": "code",
   "execution_count": 16,
   "id": "50cd85d7-6ee5-4e67-a230-d566801adaf4",
   "metadata": {},
   "outputs": [
    {
     "name": "stdout",
     "output_type": "stream",
     "text": [
      "hey how are you\n"
     ]
    }
   ],
   "source": [
    "str1=\"     how are you     \"\n",
    "str2=str1.strip()\n",
    "print(\"hey\",str2)"
   ]
  },
  {
   "cell_type": "code",
   "execution_count": 17,
   "id": "81ef9e1c-cae3-4b00-aacd-a625db03e998",
   "metadata": {},
   "outputs": [
    {
     "name": "stdout",
     "output_type": "stream",
     "text": [
      "21\n"
     ]
    }
   ],
   "source": [
    "str1=\"you are a nice person\"\n",
    "count=0\n",
    "for i in str1:\n",
    "    count+=1\n",
    "print(count)"
   ]
  },
  {
   "cell_type": "code",
   "execution_count": 19,
   "id": "07a5f128-5f60-4890-8f71-5b1a615d4cd2",
   "metadata": {},
   "outputs": [
    {
     "name": "stdout",
     "output_type": "stream",
     "text": [
      "True\n"
     ]
    }
   ],
   "source": [
    "str1=\"hello world\"\n",
    "result= 'world' in str1\n",
    "print(result)"
   ]
  },
  {
   "cell_type": "code",
   "execution_count": 20,
   "id": "d982c79a-c416-463a-8389-57d8b65e5fda",
   "metadata": {},
   "outputs": [
    {
     "name": "stdout",
     "output_type": "stream",
     "text": [
      "Hi world\n"
     ]
    }
   ],
   "source": [
    "str1=\"hello world\"\n",
    "str2=str1.replace(\"hello\",\"Hi\")\n",
    "print(str2)"
   ]
  },
  {
   "cell_type": "code",
   "execution_count": 21,
   "id": "f701fb9a-b729-4cd8-81bb-1cc1143ee037",
   "metadata": {},
   "outputs": [
    {
     "name": "stdout",
     "output_type": "stream",
     "text": [
      "3\n"
     ]
    }
   ],
   "source": [
    "str1=\"hello world\"\n",
    "s=str1.count('l')\n",
    "print(s)"
   ]
  },
  {
   "cell_type": "code",
   "execution_count": 23,
   "id": "07a13b54-a240-4da9-9c1e-f46bc933b33a",
   "metadata": {},
   "outputs": [
    {
     "name": "stdout",
     "output_type": "stream",
     "text": [
      "2\n"
     ]
    }
   ],
   "source": [
    "str1=\"hello world\"\n",
    "s=str1.find('l')\n",
    "print(s)"
   ]
  },
  {
   "cell_type": "code",
   "execution_count": 24,
   "id": "d527bf35-bbcf-45cb-b78e-9d77c1f5c031",
   "metadata": {},
   "outputs": [
    {
     "name": "stdout",
     "output_type": "stream",
     "text": [
      "9\n"
     ]
    }
   ],
   "source": [
    "str1=\"hello world\"\n",
    "s=str1.rfind('l')\n",
    "print(s)"
   ]
  },
  {
   "cell_type": "code",
   "execution_count": 2,
   "id": "1a2ee779-7a6f-4044-befb-4ec3a398b41c",
   "metadata": {},
   "outputs": [
    {
     "name": "stdout",
     "output_type": "stream",
     "text": [
      "['h', 'o', 's', 'p', 'i', 't', 'a', 'l']\n"
     ]
    }
   ],
   "source": [
    "str1=\"hospital\"\n",
    "print(list(str1))"
   ]
  },
  {
   "cell_type": "code",
   "execution_count": 5,
   "id": "319d8e29-1116-4467-8779-881644ae1418",
   "metadata": {},
   "outputs": [
    {
     "name": "stdout",
     "output_type": "stream",
     "text": [
      "hello\n"
     ]
    }
   ],
   "source": [
    "list1=['h','e','l','l','o']\n",
    "str1=\"\"\n",
    "print(str1.join(list1))"
   ]
  },
  {
   "cell_type": "code",
   "execution_count": 6,
   "id": "b0fd1f2f-d0ad-4064-9cd7-47d906cb8cf9",
   "metadata": {},
   "outputs": [
    {
     "name": "stdout",
     "output_type": "stream",
     "text": [
      "hey_how_are_you\n"
     ]
    }
   ],
   "source": [
    "str1=\"hey how are you\"\n",
    "print(str1.replace(\" \",\"_\"))"
   ]
  },
  {
   "cell_type": "code",
   "execution_count": 7,
   "id": "428571e2-72ab-41f9-a286-8002f1404544",
   "metadata": {},
   "outputs": [
    {
     "name": "stdout",
     "output_type": "stream",
     "text": [
      "True\n"
     ]
    }
   ],
   "source": [
    "str1=\"nice to meet you\"\n",
    "print(str1.startswith(\"nice\"))"
   ]
  },
  {
   "cell_type": "code",
   "execution_count": 9,
   "id": "32a795c9-5a5e-499d-995e-e1e930931330",
   "metadata": {},
   "outputs": [
    {
     "name": "stdout",
     "output_type": "stream",
     "text": [
      "True\n"
     ]
    }
   ],
   "source": [
    "str1=\"nice to meet you\"\n",
    "print(str1.endswith(\"you\"))"
   ]
  },
  {
   "cell_type": "code",
   "execution_count": 10,
   "id": "4555164d-1158-46f5-87a1-42fb4b0a04b0",
   "metadata": {},
   "outputs": [
    {
     "name": "stdout",
     "output_type": "stream",
     "text": [
      "Nice To Meet You\n"
     ]
    }
   ],
   "source": [
    "str1=\"nice to meet you\"\n",
    "print(str1.title())"
   ]
  },
  {
   "cell_type": "code",
   "execution_count": 13,
   "id": "071e1dc0-fd88-4492-a383-579d02b10019",
   "metadata": {},
   "outputs": [
    {
     "name": "stdout",
     "output_type": "stream",
     "text": [
      "nice\n"
     ]
    }
   ],
   "source": [
    "str1=\"nice to meet you\"\n",
    "word_list=str1.split()\n",
    "print(max(word_list, key=len))"
   ]
  },
  {
   "cell_type": "code",
   "execution_count": 14,
   "id": "1f72e7a2-0c4f-461a-afff-474402d963d6",
   "metadata": {},
   "outputs": [
    {
     "name": "stdout",
     "output_type": "stream",
     "text": [
      "to\n"
     ]
    }
   ],
   "source": [
    "str1=\"nice to meet you\"\n",
    "word_list=str1.split()\n",
    "print(min(word_list, key=len))"
   ]
  },
  {
   "cell_type": "code",
   "execution_count": 2,
   "id": "f2776d5e-48d8-42f6-bdc3-8ec720df7eb4",
   "metadata": {},
   "outputs": [
    {
     "name": "stdout",
     "output_type": "stream",
     "text": [
      "['You', 'Meet', 'To', 'Nice']\n",
      "YouMeetToNice\n"
     ]
    }
   ],
   "source": [
    "str1=\"Nice To Meet You\"\n",
    "lst1=str1.split()\n",
    "lst2=lst1[::-1]\n",
    "print(lst2)\n",
    "str2=\"\"\n",
    "print(str2.join(lst2))\n",
    "\n",
    "\n",
    "\n"
   ]
  },
  {
   "cell_type": "code",
   "execution_count": 13,
   "id": "26725ec6-f8c8-4abd-8950-0401a36bb656",
   "metadata": {},
   "outputs": [
    {
     "name": "stdout",
     "output_type": "stream",
     "text": [
      "True\n"
     ]
    }
   ],
   "source": [
    "str1=\"complex\"\n",
    "print(str1.isalnum())\n"
   ]
  },
  {
   "cell_type": "code",
   "execution_count": 27,
   "id": "4ae95403-35dd-4f24-8fab-af2166158808",
   "metadata": {},
   "outputs": [
    {
     "name": "stdout",
     "output_type": "stream",
     "text": [
      "4\n",
      "5\n",
      "6\n",
      "7\n",
      "8\n"
     ]
    }
   ],
   "source": [
    "str1=\"dv45hs678nsh\"\n",
    "for i in str1:\n",
    "    if i.isdigit():\n",
    "        print(i)\n",
    "   \n"
   ]
  },
  {
   "cell_type": "code",
   "execution_count": 33,
   "id": "f1e2c5d4-1bc8-443d-a5ea-4927b7534ef8",
   "metadata": {},
   "outputs": [
    {
     "name": "stdout",
     "output_type": "stream",
     "text": [
      "d\n",
      "v\n",
      "h\n",
      "s\n",
      "n\n",
      "s\n",
      "h\n"
     ]
    }
   ],
   "source": [
    "str1=\"dv45hs678nsh\"\n",
    "for i in str1:\n",
    "    if i.isalpha():\n",
    "        print(i)"
   ]
  },
  {
   "cell_type": "code",
   "execution_count": 47,
   "id": "a0167e59-08e1-4c07-9597-bd67514ae30a",
   "metadata": {},
   "outputs": [
    {
     "name": "stdout",
     "output_type": "stream",
     "text": [
      "['M', 'N', 'P', 'B']\n",
      "4\n"
     ]
    }
   ],
   "source": [
    "str1=\"dv45Ms678NshPB\"\n",
    "lst1=[]\n",
    "for i in str1:\n",
    "    if i.isupper():\n",
    "        lst1.append(i)\n",
    "print(lst1)\n",
    "print(len(lst1))"
   ]
  },
  {
   "cell_type": "code",
   "execution_count": 48,
   "id": "b15ef7ad-b0cc-4d9f-a6b8-ccecfe8f7d01",
   "metadata": {},
   "outputs": [
    {
     "name": "stdout",
     "output_type": "stream",
     "text": [
      "['d', 'v', 's', 's', 'h']\n",
      "5\n"
     ]
    }
   ],
   "source": [
    "str1=\"dv45Ms678NshPB\"\n",
    "lst1=[]\n",
    "for i in str1:\n",
    "    if i.islower():\n",
    "        lst1.append(i)\n",
    "print(lst1)\n",
    "print(len(lst1))"
   ]
  },
  {
   "cell_type": "code",
   "execution_count": 51,
   "id": "f6e9bba7-5789-4a61-8b5f-f553b6b6ca2b",
   "metadata": {},
   "outputs": [
    {
     "name": "stdout",
     "output_type": "stream",
     "text": [
      "RFJRHdHWTfMSDHg\n"
     ]
    }
   ],
   "source": [
    "str1=\"rfjrhDhwtFmsdhG\"\n",
    "print(str1.swapcase())"
   ]
  },
  {
   "cell_type": "code",
   "execution_count": 56,
   "id": "ce333978-5d3d-49cf-9174-1de5858edb77",
   "metadata": {},
   "outputs": [
    {
     "name": "stdout",
     "output_type": "stream",
     "text": [
      "it is a  day\n"
     ]
    }
   ],
   "source": [
    "str1=\"it is a good day\"\n",
    "print(str1.replace(\"good\",\"\"))"
   ]
  },
  {
   "cell_type": "code",
   "execution_count": null,
   "id": "5cf828bf-88d9-4ba1-a09a-271ddc0303ce",
   "metadata": {},
   "outputs": [],
   "source": []
  },
  {
   "cell_type": "code",
   "execution_count": 58,
   "id": "da10d284-e3a9-4c11-adbe-d594a32ec2c9",
   "metadata": {},
   "outputs": [
    {
     "name": "stdout",
     "output_type": "stream",
     "text": [
      "nice to meet you\n"
     ]
    }
   ],
   "source": [
    "str3=\"nice   to meet   you\"\n",
    "print(str3.replace(\"   \",\" \"))"
   ]
  },
  {
   "cell_type": "code",
   "execution_count": 2,
   "id": "c2511b6d-6939-4896-8038-d44eecbc0437",
   "metadata": {},
   "outputs": [
    {
     "name": "stdout",
     "output_type": "stream",
     "text": [
      "True\n"
     ]
    }
   ],
   "source": [
    "str1=\"https://www.google.com\"\n",
    "print(\"https://\" in str1)"
   ]
  },
  {
   "cell_type": "code",
   "execution_count": 3,
   "id": "31e00d0b-892e-4fad-9e18-aee99260f94c",
   "metadata": {},
   "outputs": [
    {
     "name": "stdout",
     "output_type": "stream",
     "text": [
      "https\n"
     ]
    }
   ],
   "source": [
    "str1=\"https://www.google.com\"\n",
    "print(str1[0:5])\n"
   ]
  },
  {
   "cell_type": "code",
   "execution_count": 4,
   "id": "7093028b-31bd-4c71-b30d-ab6b8dc2c286",
   "metadata": {},
   "outputs": [
    {
     "name": "stdout",
     "output_type": "stream",
     "text": [
      "2\n"
     ]
    }
   ],
   "source": [
    "str1=\"hey listne , how are you?\"\n",
    "print(str1.count(\"h\"))"
   ]
  },
  {
   "cell_type": "code",
   "execution_count": 5,
   "id": "5c6fa883-cbdc-4c55-a12f-6c8fcd652358",
   "metadata": {},
   "outputs": [
    {
     "name": "stdout",
     "output_type": "stream",
     "text": [
      "True\n"
     ]
    }
   ],
   "source": [
    "str1=\"1234\"\n",
    "print(str1.isdigit())"
   ]
  },
  {
   "cell_type": "code",
   "execution_count": 7,
   "id": "111913fb-a73b-4322-86b8-f6d7e3c499fe",
   "metadata": {},
   "outputs": [
    {
     "name": "stdout",
     "output_type": "stream",
     "text": [
      "False\n"
     ]
    }
   ],
   "source": [
    "str1=\"he2llo\"\n",
    "print(str1.isalpha())"
   ]
  },
  {
   "cell_type": "code",
   "execution_count": 13,
   "id": "3798d68a-7aab-46c9-b639-ebc3982ebf26",
   "metadata": {},
   "outputs": [
    {
     "name": "stdout",
     "output_type": "stream",
     "text": [
      "['hello', 'how', 'are', 'you']\n"
     ]
    }
   ],
   "source": [
    "str1=\"hello how are you\"\n",
    "print(str1.split(\" \"))"
   ]
  },
  {
   "cell_type": "code",
   "execution_count": 14,
   "id": "a9b33423-336a-4b81-9134-bc12b0add043",
   "metadata": {},
   "outputs": [
    {
     "name": "stdout",
     "output_type": "stream",
     "text": [
      "Anagram\n"
     ]
    }
   ],
   "source": [
    "str1=\"silent\"\n",
    "str2=\"listen\"\n",
    "if sorted(str1)==sorted(str2):\n",
    "    print(\"Anagram\")"
   ]
  },
  {
   "cell_type": "code",
   "execution_count": 16,
   "id": "55e40f87-e39f-4d64-9962-1d562ca4bd2e",
   "metadata": {},
   "outputs": [
    {
     "name": "stdout",
     "output_type": "stream",
     "text": [
      "True\n"
     ]
    }
   ],
   "source": [
    "str1=\"aeroplane\"\n",
    "print(\"e\" in str1)"
   ]
  },
  {
   "cell_type": "code",
   "execution_count": 19,
   "id": "7b0648bb-89fe-4c6e-b8b7-f464c9409f4a",
   "metadata": {},
   "outputs": [
    {
     "name": "stdout",
     "output_type": "stream",
     "text": [
      "aerolane\n"
     ]
    }
   ],
   "source": [
    "str1=\"aeroplane\"\n",
    "str2=str1.replace('p','')\n",
    "print(str2)"
   ]
  },
  {
   "cell_type": "code",
   "execution_count": 22,
   "id": "e4dcc8fb-8604-4c98-9d16-6d073d9abe3d",
   "metadata": {},
   "outputs": [
    {
     "name": "stdout",
     "output_type": "stream",
     "text": [
      "[1, 2, 3, 4, 5, 6, 7, 8, 9, 10]\n"
     ]
    }
   ],
   "source": [
    "lst=[1,2,3,4,5,6,7,8,9,10]\n",
    "print(lst)"
   ]
  },
  {
   "cell_type": "code",
   "execution_count": 2,
   "id": "594f13ca-32f5-468f-bd90-e5e8b778e208",
   "metadata": {},
   "outputs": [
    {
     "name": "stdout",
     "output_type": "stream",
     "text": [
      "3\n"
     ]
    }
   ],
   "source": [
    "count=0\n",
    "lst=[1,2,3]\n",
    "for i in lst:\n",
    "    count=count+1\n",
    "print(count)"
   ]
  },
  {
   "cell_type": "code",
   "execution_count": 9,
   "id": "a65ae202-ccf0-48dd-8455-a2148bf9d329",
   "metadata": {},
   "outputs": [
    {
     "name": "stdout",
     "output_type": "stream",
     "text": [
      "[1, 2, 3, 4]\n"
     ]
    }
   ],
   "source": [
    "lst= [1,2,3]\n",
    "lst.append(4)\n",
    "print(lst)\n"
   ]
  },
  {
   "cell_type": "code",
   "execution_count": 12,
   "id": "a67d7af2-572b-4e9f-bb57-9dedfa66f561",
   "metadata": {},
   "outputs": [
    {
     "name": "stdout",
     "output_type": "stream",
     "text": [
      "[1, 2, 0, 3]\n"
     ]
    }
   ],
   "source": [
    "lst= [1,2,3]\n",
    "lst.insert(2,0)\n",
    "print(lst)"
   ]
  },
  {
   "cell_type": "code",
   "execution_count": 13,
   "id": "c53a3828-2aff-478d-ab4c-762993c81574",
   "metadata": {},
   "outputs": [
    {
     "name": "stdout",
     "output_type": "stream",
     "text": [
      "[2, 3]\n"
     ]
    }
   ],
   "source": [
    "lst= [1,2,3]\n",
    "lst.remove(1)\n",
    "print(lst)"
   ]
  },
  {
   "cell_type": "code",
   "execution_count": 16,
   "id": "85c5bc60-f9e1-4a40-81d4-f7ab3c591d31",
   "metadata": {},
   "outputs": [
    {
     "name": "stdout",
     "output_type": "stream",
     "text": [
      "[1, 3]\n"
     ]
    }
   ],
   "source": [
    "lst= [1,2,3]\n",
    "lst.pop(1)\n",
    "print(lst)"
   ]
  },
  {
   "cell_type": "code",
   "execution_count": 17,
   "id": "12d526b9-a670-4b61-9a44-b144a46aa7c7",
   "metadata": {},
   "outputs": [
    {
     "name": "stdout",
     "output_type": "stream",
     "text": [
      "True\n"
     ]
    }
   ],
   "source": [
    "lst= [1,2,3]\n",
    "print(1 in lst)"
   ]
  },
  {
   "cell_type": "code",
   "execution_count": 19,
   "id": "a61981e4-0799-4573-8ee3-82eb18c0202c",
   "metadata": {},
   "outputs": [
    {
     "name": "stdout",
     "output_type": "stream",
     "text": [
      "1\n"
     ]
    }
   ],
   "source": [
    "lst= [1,2,3,4,5]\n",
    "print(lst.index(2))"
   ]
  },
  {
   "cell_type": "code",
   "execution_count": 20,
   "id": "5a03be1e-135d-4e37-a578-9cce937440c2",
   "metadata": {},
   "outputs": [
    {
     "name": "stdout",
     "output_type": "stream",
     "text": [
      "[5, 4, 3, 2, 1]\n"
     ]
    }
   ],
   "source": [
    "lst= [1,2,3,4,5]\n",
    "print(lst[::-1])"
   ]
  },
  {
   "cell_type": "code",
   "execution_count": 24,
   "id": "bdf5ca41-332e-4bfc-8ead-62835271ade0",
   "metadata": {},
   "outputs": [
    {
     "name": "stdout",
     "output_type": "stream",
     "text": [
      "[1, 2, 3, 4, 5]\n"
     ]
    }
   ],
   "source": [
    "lst= [1,2,3,4,5]\n",
    "lst.sort()\n",
    "print(lst)"
   ]
  },
  {
   "cell_type": "code",
   "execution_count": 27,
   "id": "083a5168-9590-4263-a638-0adab47442f1",
   "metadata": {},
   "outputs": [
    {
     "name": "stdout",
     "output_type": "stream",
     "text": [
      "[5, 4, 3, 2, 1]\n"
     ]
    }
   ],
   "source": [
    "lst= [1,2,3,4,5]\n",
    "lst.sort(reverse=True) \n",
    "print(lst)"
   ]
  },
  {
   "cell_type": "code",
   "execution_count": 2,
   "id": "93e147c6-ea01-498d-a428-c096b67d73a3",
   "metadata": {},
   "outputs": [
    {
     "name": "stdout",
     "output_type": "stream",
     "text": [
      "[2, 4, 6, 8, 10, 12, 14, 16, 18, 20]\n"
     ]
    }
   ],
   "source": [
    "lst=[]\n",
    "for i in range(1,21):\n",
    "    if i%2==0:\n",
    "        lst.append(i)\n",
    "print(lst)"
   ]
  },
  {
   "cell_type": "code",
   "execution_count": 3,
   "id": "46ae8389-dd9b-4e23-a96e-66b51092367e",
   "metadata": {},
   "outputs": [
    {
     "name": "stdout",
     "output_type": "stream",
     "text": [
      "[1, 3, 5, 7, 9, 11, 13, 15, 17, 19]\n"
     ]
    }
   ],
   "source": [
    "lst=[]\n",
    "for i in range(1,21):\n",
    "    if i%2!=0:\n",
    "        lst.append(i)\n",
    "print(lst)"
   ]
  },
  {
   "cell_type": "code",
   "execution_count": 4,
   "id": "120eb46e-1917-49b2-808f-29e2c3407622",
   "metadata": {},
   "outputs": [
    {
     "name": "stdout",
     "output_type": "stream",
     "text": [
      "15\n"
     ]
    }
   ],
   "source": [
    "sum=0\n",
    "lst=[1,2,3,4,5]\n",
    "for i in lst:\n",
    "    sum=sum+i\n",
    "print(sum)"
   ]
  },
  {
   "cell_type": "code",
   "execution_count": 5,
   "id": "cdeeb150-65d9-4cb4-94f7-7ae3f3899604",
   "metadata": {},
   "outputs": [
    {
     "name": "stdout",
     "output_type": "stream",
     "text": [
      "7\n"
     ]
    }
   ],
   "source": [
    "lst=[3,5,7,4,1]\n",
    "print(max(lst))"
   ]
  },
  {
   "cell_type": "code",
   "execution_count": 1,
   "id": "a581b8bf-ffbb-4fc9-8618-2853e444c1b9",
   "metadata": {},
   "outputs": [
    {
     "name": "stdout",
     "output_type": "stream",
     "text": [
      "[1, 4, 9, 16, 25, 36, 49, 64, 81, 100]\n"
     ]
    }
   ],
   "source": [
    "lst=[]\n",
    "for i in range(1,11):\n",
    "    lst.append(i*i)\n",
    "print(lst)"
   ]
  },
  {
   "cell_type": "code",
   "execution_count": 2,
   "id": "0fd3ef11-2880-4349-bbeb-d1fcabf406c3",
   "metadata": {},
   "outputs": [
    {
     "name": "stdout",
     "output_type": "stream",
     "text": [
      "[1, 2, 3, 4, 5, 6]\n"
     ]
    }
   ],
   "source": [
    "lst=[1,2,3,4,3,5,2,6]\n",
    "a=set(lst)\n",
    "b=list(a)\n",
    "print(b)\n"
   ]
  },
  {
   "cell_type": "code",
   "execution_count": 3,
   "id": "2cb6c897-f6dc-48c1-89e0-cb821651a271",
   "metadata": {},
   "outputs": [
    {
     "name": "stdout",
     "output_type": "stream",
     "text": [
      "[4, 5]\n"
     ]
    }
   ],
   "source": [
    "lst1=[1,2,3,4,5]\n",
    "lst2=[4,5,6,7,8]\n",
    "lst3=[]\n",
    "for i in lst1:\n",
    "    for j in lst2:\n",
    "        if i==j:\n",
    "            lst3.append(i)\n",
    "print(lst3)\n",
    "            "
   ]
  },
  {
   "cell_type": "code",
   "execution_count": 15,
   "id": "e7bfe7e0-c3c0-472f-aa50-a1ed030d9537",
   "metadata": {},
   "outputs": [
    {
     "name": "stdout",
     "output_type": "stream",
     "text": [
      "[1, 2, 3]\n"
     ]
    }
   ],
   "source": [
    "lst1=[1,2,3,4,5]\n",
    "lst2=[4,5,6,7,8]\n",
    "lst3=[]\n",
    "for i in lst1:\n",
    "    if i not in lst2:\n",
    "        lst3.append(i)\n",
    "print(lst3)\n",
    "            "
   ]
  },
  {
   "cell_type": "code",
   "execution_count": 22,
   "id": "016d4438-5041-416a-9402-d3190ad7e8ff",
   "metadata": {},
   "outputs": [
    {
     "name": "stdout",
     "output_type": "stream",
     "text": [
      "['apple', 'banana', 'cherry', 'Ford', 'BMW', 'Volvo']\n"
     ]
    }
   ],
   "source": [
    "fruits = ['apple', 'banana', 'cherry']\n",
    "cars = ['Ford', 'BMW', 'Volvo']\n",
    "fruits.extend(cars)\n",
    "print(fruits)\n"
   ]
  },
  {
   "cell_type": "code",
   "execution_count": 24,
   "id": "f5bbc92a-d6c9-4fc6-b1eb-1077e17fb1ae",
   "metadata": {},
   "outputs": [
    {
     "name": "stdout",
     "output_type": "stream",
     "text": [
      "[2, 4, 6, 8, 10]\n"
     ]
    }
   ],
   "source": [
    "lst1=[1,2,3,4,5]\n",
    "lst2=[]\n",
    "for i in  lst1:\n",
    "    lst2.append(i*2)\n",
    "print(lst2)"
   ]
  },
  {
   "cell_type": "code",
   "execution_count": 26,
   "id": "9826fbb7-27a4-4841-8218-fc457e2c1e19",
   "metadata": {},
   "outputs": [
    {
     "name": "stdout",
     "output_type": "stream",
     "text": [
      "[2, 4, 6, 8]\n"
     ]
    }
   ],
   "source": [
    "lst1=[1,2,3,4,5,6,7,8]\n",
    "lst2=[]\n",
    "for i in lst1:\n",
    "    if i%2==0:\n",
    "        lst2.append(i)\n",
    "print(lst2)"
   ]
  },
  {
   "cell_type": "code",
   "execution_count": 27,
   "id": "dcaa18a4-5070-44a5-a784-20cd85a911a9",
   "metadata": {},
   "outputs": [
    {
     "name": "stdout",
     "output_type": "stream",
     "text": [
      "[1, 2, 3, 4]\n"
     ]
    }
   ],
   "source": [
    "lst1=['1','2','3','4']\n",
    "lst2=list(map(lambda a: int(a),lst1))\n",
    "print(lst2)"
   ]
  },
  {
   "cell_type": "code",
   "execution_count": 28,
   "id": "a4b4f5d3-5f0d-4f23-a7ff-444a102b12f3",
   "metadata": {},
   "outputs": [
    {
     "name": "stdout",
     "output_type": "stream",
     "text": [
      "['1', '2', '3', '4', '5']\n"
     ]
    }
   ],
   "source": [
    "lst1=[1,2,3,4,5]\n",
    "lst2=list(map(lambda a: str(a),lst1))\n",
    "print(lst2)"
   ]
  },
  {
   "cell_type": "code",
   "execution_count": 29,
   "id": "839308c4-05b8-4620-9248-cb4d4eb16d07",
   "metadata": {},
   "outputs": [
    {
     "name": "stdout",
     "output_type": "stream",
     "text": [
      "[1, 2, 5, 8, 3, 0, 4]\n"
     ]
    }
   ],
   "source": [
    "lst1=[[1,2],[5,8,3],[0,4]]\n",
    "lst1=sum(lst1,[])\n",
    "print(lst1)\n"
   ]
  },
  {
   "cell_type": "code",
   "execution_count": 44,
   "id": "33f20acf-1679-451e-b871-d9971953fbd6",
   "metadata": {},
   "outputs": [
    {
     "name": "stdout",
     "output_type": "stream",
     "text": [
      "[0, 1, 1, 2, 3, 5, 8, 13, 21, 34]\n"
     ]
    }
   ],
   "source": [
    "a=0\n",
    "b=1\n",
    "lst1=[]\n",
    "lst1.append(a)\n",
    "lst1.append(b)\n",
    "for i in range(1,9):\n",
    "    c=a+b\n",
    "    lst1.append(c)\n",
    "    a=b\n",
    "    b=c\n",
    "print(lst1)\n",
    "        "
   ]
  },
  {
   "cell_type": "code",
   "execution_count": 45,
   "id": "bb726d89-709f-4268-9a97-6b20907e8a72",
   "metadata": {},
   "outputs": [
    {
     "name": "stdout",
     "output_type": "stream",
     "text": [
      "not sorted list\n"
     ]
    }
   ],
   "source": [
    "lst=[2,1,5,4,9,3]\n",
    "if lst==sorted(lst):\n",
    "    print(\"sorted list\")\n",
    "else:\n",
    "    print(\"not sorted list\")"
   ]
  },
  {
   "cell_type": "code",
   "execution_count": 46,
   "id": "66e1cead-c1e6-4fd8-8e9c-be0f12bfb6ac",
   "metadata": {},
   "outputs": [
    {
     "name": "stdout",
     "output_type": "stream",
     "text": [
      "[4, 5, 1, 2, 3]\n"
     ]
    }
   ],
   "source": [
    "lst=[1,2,3,4,5]\n",
    "lst=lst[3:]+lst[:3]\n",
    "print(lst)"
   ]
  },
  {
   "cell_type": "code",
   "execution_count": 49,
   "id": "b279f1e9-8eea-4191-bf89-a388dc9a1374",
   "metadata": {},
   "outputs": [
    {
     "name": "stdout",
     "output_type": "stream",
     "text": [
      "[3, 4, 5, 1, 2]\n"
     ]
    }
   ],
   "source": [
    "lst=[1,2,3,4,5]\n",
    "lst=lst[-3:]+lst[:-3]\n",
    "print(lst)"
   ]
  },
  {
   "cell_type": "code",
   "execution_count": 56,
   "id": "3fb0371b-3315-4b2d-bfbc-e473114351e1",
   "metadata": {},
   "outputs": [
    {
     "name": "stdout",
     "output_type": "stream",
     "text": [
      "7\n"
     ]
    }
   ],
   "source": [
    "lst=[4,1,7,3,9,2]\n",
    "lst=sorted(lst)\n",
    "print(lst[-2])"
   ]
  },
  {
   "cell_type": "code",
   "execution_count": 2,
   "id": "668a6b19-a7e9-4032-af91-4a269fb5a116",
   "metadata": {},
   "outputs": [
    {
     "name": "stdout",
     "output_type": "stream",
     "text": [
      "[1, 2, 3]\n",
      "[4, 5, 6]\n",
      "[7, 8, 9]\n"
     ]
    }
   ],
   "source": [
    "lst=[1,2,3,4,5,6,7,8,9]\n",
    "start=0\n",
    "end=len(lst)\n",
    "step=3\n",
    "for i in range(start, end, step):\n",
    "    x = i\n",
    "    print(lst[x:x+step])"
   ]
  },
  {
   "cell_type": "code",
   "execution_count": 1,
   "id": "5fdef2bd-0b6d-42cd-a7ba-e55590045c89",
   "metadata": {},
   "outputs": [
    {
     "name": "stdout",
     "output_type": "stream",
     "text": [
      "[1, 4, 9, 16, 25]\n"
     ]
    }
   ],
   "source": [
    "lst1=[1,2,3,4,5]\n",
    "lst2=[]\n",
    "for i in  lst1:\n",
    "    lst2.append(i*i)\n",
    "print(lst2)"
   ]
  },
  {
   "cell_type": "code",
   "execution_count": 6,
   "id": "aae2f059-69d7-43f5-ab84-da6ba1258ac4",
   "metadata": {},
   "outputs": [
    {
     "name": "stdout",
     "output_type": "stream",
     "text": [
      "{0: 'a', 1: 'b', 2: 'c', 3: 'd', 4: 'e', 5: 'f', 6: 'g'}\n"
     ]
    }
   ],
   "source": [
    "lst=['a','b','c','d','e','f','g']\n",
    "d=dict(enumerate(lst))\n",
    "print(d)"
   ]
  },
  {
   "cell_type": "code",
   "execution_count": 8,
   "id": "3dca4b25-2830-4f14-8b53-9f25db1b887f",
   "metadata": {},
   "outputs": [
    {
     "name": "stdout",
     "output_type": "stream",
     "text": [
      "['f', 'd', 'g', 'e', 'b', 'c', 'a']\n"
     ]
    }
   ],
   "source": [
    "import random\n",
    "lst=['a','b','c','d','e','f','g']\n",
    "random.shuffle(lst)\n",
    "print(lst)"
   ]
  },
  {
   "cell_type": "code",
   "execution_count": 20,
   "id": "5080e636-16ed-43f2-839a-d80ce4e549de",
   "metadata": {},
   "outputs": [
    {
     "name": "stdout",
     "output_type": "stream",
     "text": [
      "[1, 2, 6, 24, 120, 720, 5040, 40320, 362880, 3628800]\n"
     ]
    }
   ],
   "source": [
    "import math\n",
    "lst=[]\n",
    "for i in range(1,11):\n",
    "    m=(math.factorial(i))\n",
    "    lst.append(m)\n",
    "print(lst)\n",
    "    "
   ]
  },
  {
   "cell_type": "code",
   "execution_count": 23,
   "id": "4d5550f4-21f0-4b50-af10-ad5ac64d0ac7",
   "metadata": {},
   "outputs": [
    {
     "name": "stdout",
     "output_type": "stream",
     "text": [
      "common element is there\n"
     ]
    }
   ],
   "source": [
    "lst1=[1,2,3,4,5]\n",
    "lst2=[5,6,7,8,9]\n",
    "for i in lst1:\n",
    "    for j in lst2:\n",
    "        if i==j:\n",
    "            print(\"common element is there\")"
   ]
  },
  {
   "cell_type": "code",
   "execution_count": 26,
   "id": "57218f03-8c88-4302-8036-b5f04cecbf35",
   "metadata": {},
   "outputs": [
    {
     "name": "stdout",
     "output_type": "stream",
     "text": [
      "[]\n"
     ]
    }
   ],
   "source": [
    "lst=[1,2,3,4]\n",
    "lst.clear()\n",
    "print(lst)"
   ]
  },
  {
   "cell_type": "code",
   "execution_count": 27,
   "id": "7e2ced07-d90f-4057-af6a-9f429c3a45fa",
   "metadata": {},
   "outputs": [
    {
     "name": "stdout",
     "output_type": "stream",
     "text": [
      "[1, 3, 5, 6, 7]\n"
     ]
    }
   ],
   "source": [
    "lst=[1,-2,3,-4,5,6,7]\n",
    "for i in lst:\n",
    "    if i<0:\n",
    "        lst.remove(i)\n",
    "print(lst)"
   ]
  },
  {
   "cell_type": "code",
   "execution_count": 28,
   "id": "dfabe629-d67d-44f7-aedf-802586ccc88a",
   "metadata": {},
   "outputs": [
    {
     "name": "stdout",
     "output_type": "stream",
     "text": [
      "['e', 'l', 'e', 'p', 'h', 'a', 'n', 't']\n"
     ]
    }
   ],
   "source": [
    "string=\"elephant\"\n",
    "lst=list(string)\n",
    "print(lst)\n"
   ]
  },
  {
   "cell_type": "code",
   "execution_count": 31,
   "id": "0b8455ca-6643-4491-ae28-2b1dee03c320",
   "metadata": {},
   "outputs": [
    {
     "name": "stdout",
     "output_type": "stream",
     "text": [
      "hello\n"
     ]
    }
   ],
   "source": [
    "lst=['h','e','l','l','o']\n",
    "str1=\"\"\n",
    "for i in lst:\n",
    "    str1=str1+i\n",
    "print(str1)"
   ]
  },
  {
   "cell_type": "code",
   "execution_count": 32,
   "id": "74e58d24-0b58-4380-b570-b4bde24e3c6b",
   "metadata": {},
   "outputs": [
    {
     "name": "stdin",
     "output_type": "stream",
     "text": [
      "enter a number for list: 8\n"
     ]
    },
    {
     "name": "stdout",
     "output_type": "stream",
     "text": [
      "[1, 4, 9, 16, 25, 36, 49, 64]\n"
     ]
    }
   ],
   "source": [
    "num=int(input(\"enter a number for list:\"))\n",
    "lst=[]\n",
    "for i in range(1,num+1):\n",
    "    lst.append(i*i)\n",
    "print(lst)\n",
    "        "
   ]
  },
  {
   "cell_type": "code",
   "execution_count": 36,
   "id": "ff51c812-9a4c-44f3-8548-786df6fee088",
   "metadata": {},
   "outputs": [
    {
     "name": "stdout",
     "output_type": "stream",
     "text": [
      "banana\n"
     ]
    }
   ],
   "source": [
    "lst=['apple','banana','grape','mango']\n",
    "print(max(lst,key=len))"
   ]
  },
  {
   "cell_type": "code",
   "execution_count": 37,
   "id": "e1d9a041-d8c7-4d19-a215-1ff3062b30d1",
   "metadata": {},
   "outputs": [
    {
     "name": "stdout",
     "output_type": "stream",
     "text": [
      "nut\n"
     ]
    }
   ],
   "source": [
    "lst=['apple','banana','grape','nut','mango']\n",
    "print(min(lst,key=len))"
   ]
  },
  {
   "cell_type": "code",
   "execution_count": 41,
   "id": "85ebcb63-0039-47cc-a57e-add623e8b4cc",
   "metadata": {},
   "outputs": [
    {
     "name": "stdin",
     "output_type": "stream",
     "text": [
      "enter a number for triangular number: 10\n"
     ]
    },
    {
     "name": "stdout",
     "output_type": "stream",
     "text": [
      "[0, 1, 3, 6, 10, 15, 21, 28, 36, 45, 55]\n"
     ]
    }
   ],
   "source": [
    "lst=[]\n",
    "num=int(input(\"enter a number for triangular number:\"))\n",
    "for i in range(0,num+1):\n",
    "    m=int((i*(i+1))/2)\n",
    "    lst.append(m)\n",
    "print(lst)"
   ]
  },
  {
   "cell_type": "code",
   "execution_count": 43,
   "id": "39f1bb1b-773d-4fa2-8cf6-3168cad77664",
   "metadata": {},
   "outputs": [
    {
     "name": "stdout",
     "output_type": "stream",
     "text": [
      "False\n"
     ]
    }
   ],
   "source": [
    "lst1=[1,2,3]\n",
    "lst2=[5,3,7,2,0,9,1,2,3,4]\n",
    "print(lst1 in lst2)"
   ]
  },
  {
   "cell_type": "code",
   "execution_count": 56,
   "id": "5d703383-275d-43eb-aba7-976361c1c4e4",
   "metadata": {},
   "outputs": [
    {
     "name": "stdout",
     "output_type": "stream",
     "text": [
      "[65, 23, 19, 90]\n",
      "[65, 23, 90, 19]\n"
     ]
    }
   ],
   "source": [
    "def swapPositions(list, pos1, pos2):\n",
    "    list[pos1], list[pos2] = list[pos2], list[pos1]\n",
    "    return list\n",
    "List = [23, 65, 19, 90]\n",
    "print(swapPositions(List, 0,1))\n",
    "print(swapPositions(List, 2,3))\n"
   ]
  },
  {
   "cell_type": "code",
   "execution_count": 57,
   "id": "c869c54d-fe72-49fa-9705-d891bb18751e",
   "metadata": {},
   "outputs": [
    {
     "name": "stdout",
     "output_type": "stream",
     "text": [
      "(1, 2, 3, 4)\n"
     ]
    }
   ],
   "source": [
    "tup1=(1,2,3,4)\n",
    "print(tup1)"
   ]
  },
  {
   "cell_type": "code",
   "execution_count": 58,
   "id": "1c99cacc-1835-46b1-aee4-f17bcdc4b6b8",
   "metadata": {},
   "outputs": [
    {
     "name": "stdout",
     "output_type": "stream",
     "text": [
      "3\n"
     ]
    }
   ],
   "source": [
    "tup1=(1,2,3,4)\n",
    "print(tup1[2])"
   ]
  },
  {
   "cell_type": "code",
   "execution_count": 59,
   "id": "163182ad-b49f-42db-8ecf-ffc84691b11c",
   "metadata": {},
   "outputs": [
    {
     "name": "stdout",
     "output_type": "stream",
     "text": [
      "4\n"
     ]
    }
   ],
   "source": [
    "tup1=(1,2,3,4)\n",
    "count=0\n",
    "for i in tup1:\n",
    "    count=count+1\n",
    "print(count)"
   ]
  },
  {
   "cell_type": "code",
   "execution_count": 61,
   "id": "0d3138b2-7f8d-4464-bd51-edf2f19d95a6",
   "metadata": {},
   "outputs": [
    {
     "name": "stdout",
     "output_type": "stream",
     "text": [
      "3\n"
     ]
    }
   ],
   "source": [
    "tup=(1,2,3,4,2,5,2,4,6,3,7)\n",
    "print(tup.count(2))"
   ]
  },
  {
   "cell_type": "code",
   "execution_count": 62,
   "id": "4c9f0608-372b-4f24-84b9-44104f677ad5",
   "metadata": {},
   "outputs": [
    {
     "name": "stdout",
     "output_type": "stream",
     "text": [
      "2\n"
     ]
    }
   ],
   "source": [
    "tup=(1,2,3,4,2,5,2,4,6,3,7)\n",
    "print(tup.index(3))"
   ]
  },
  {
   "cell_type": "code",
   "execution_count": 63,
   "id": "ddf54988-3767-4433-b0b7-bd5d01fded3c",
   "metadata": {},
   "outputs": [
    {
     "name": "stdout",
     "output_type": "stream",
     "text": [
      "True\n"
     ]
    }
   ],
   "source": [
    "tup=(1,2,3,4,2,5,2,4,6,3,7)\n",
    "print(4 in tup)"
   ]
  },
  {
   "cell_type": "code",
   "execution_count": 64,
   "id": "77c6144c-9832-4a7d-98d3-7b55671c1663",
   "metadata": {},
   "outputs": [
    {
     "name": "stdout",
     "output_type": "stream",
     "text": [
      "[1, 2, 3, 4, 2, 5, 2, 4, 6, 3, 7]\n"
     ]
    }
   ],
   "source": [
    "tup=(1,2,3,4,2,5,2,4,6,3,7)\n",
    "lst=list(tup)\n",
    "print(lst)"
   ]
  },
  {
   "cell_type": "code",
   "execution_count": 65,
   "id": "9355d076-1fe1-4c19-bbca-85bf1741d785",
   "metadata": {},
   "outputs": [
    {
     "name": "stdout",
     "output_type": "stream",
     "text": [
      "(1, 2, 3, 4, 2, 5, 2, 4, 6, 3, 7)\n"
     ]
    }
   ],
   "source": [
    "lst=[1,2,3,4,2,5,2,4,6,3,7]\n",
    "tup=tuple(lst)\n",
    "print(tup)"
   ]
  },
  {
   "cell_type": "code",
   "execution_count": 66,
   "id": "841da814-cd0c-4e54-b6b2-35f3a066e02f",
   "metadata": {},
   "outputs": [
    {
     "name": "stdout",
     "output_type": "stream",
     "text": [
      "1\n",
      "2\n",
      "3\n"
     ]
    }
   ],
   "source": [
    "tup=(1,2,3)\n",
    "(a,b,c)=tup\n",
    "print(a)\n",
    "print(b)\n",
    "print(c)"
   ]
  },
  {
   "cell_type": "code",
   "execution_count": 68,
   "id": "123065df-5fcf-4fbe-8eef-7f935fdb1d3c",
   "metadata": {},
   "outputs": [
    {
     "name": "stdout",
     "output_type": "stream",
     "text": [
      "(2, 4, 6, 8, 10)\n"
     ]
    }
   ],
   "source": [
    "lst=[]\n",
    "for i in range(1,11):\n",
    "    if i%2==0:\n",
    "        lst.append(i)\n",
    "print(tuple(lst))"
   ]
  },
  {
   "cell_type": "code",
   "execution_count": 69,
   "id": "75b14a21-931a-44cd-9049-144a7a947b0a",
   "metadata": {},
   "outputs": [
    {
     "name": "stdout",
     "output_type": "stream",
     "text": [
      "(1, 3, 5, 7, 9)\n"
     ]
    }
   ],
   "source": [
    "lst=[]\n",
    "for i in range(1,11):\n",
    "    if i%2!=0:\n",
    "        lst.append(i)\n",
    "print(tuple(lst))"
   ]
  },
  {
   "cell_type": "code",
   "execution_count": 70,
   "id": "1e77911a-c14a-4ee0-a92f-a9fd6604c0fd",
   "metadata": {},
   "outputs": [
    {
     "name": "stdout",
     "output_type": "stream",
     "text": [
      "(1, 2, 3, 4, 5, 6)\n"
     ]
    }
   ],
   "source": [
    "tup1=(1,2,3)\n",
    "tup2=(4,5,6)\n",
    "tup3=tup1+tup2\n",
    "print(tup3)"
   ]
  },
  {
   "cell_type": "code",
   "execution_count": 71,
   "id": "a42a9471-5179-4426-a6bb-3e37eca635a0",
   "metadata": {},
   "outputs": [
    {
     "name": "stdout",
     "output_type": "stream",
     "text": [
      "(1, 2, 3, 1, 2, 3, 1, 2, 3)\n"
     ]
    }
   ],
   "source": [
    "tup1=(1,2,3)\n",
    "print(3*tup1)"
   ]
  },
  {
   "cell_type": "code",
   "execution_count": 74,
   "id": "517a1d16-b320-4896-9ce1-7d90bbd0c1d2",
   "metadata": {},
   "outputs": [
    {
     "name": "stdout",
     "output_type": "stream",
     "text": [
      "not empty tuple\n"
     ]
    }
   ],
   "source": [
    "tup1=(1,2,3)\n",
    "if len(tup1)==0:\n",
    "    print(\"empty tuple\")\n",
    "else:\n",
    "    print(\"not empty tuple\")"
   ]
  },
  {
   "cell_type": "code",
   "execution_count": 75,
   "id": "80962a30-98a5-4f8b-a0ec-54d0ae8253b9",
   "metadata": {},
   "outputs": [
    {
     "name": "stdout",
     "output_type": "stream",
     "text": [
      "((1, 2), (3, 4, 5))\n"
     ]
    }
   ],
   "source": [
    "tup=((1,2),(3,4,5))\n",
    "print(tup)"
   ]
  },
  {
   "cell_type": "code",
   "execution_count": 81,
   "id": "eb0c73cf-f643-445e-95fd-59707caf946e",
   "metadata": {},
   "outputs": [
    {
     "name": "stdout",
     "output_type": "stream",
     "text": [
      "1\n"
     ]
    }
   ],
   "source": [
    "tup=((1,2),(3,4,5))\n",
    "print(tup[0][0])"
   ]
  },
  {
   "cell_type": "code",
   "execution_count": 89,
   "id": "3fdcd54c-190a-48bb-9bd9-18f9dc92b288",
   "metadata": {},
   "outputs": [
    {
     "name": "stdout",
     "output_type": "stream",
     "text": [
      "(1,)\n"
     ]
    }
   ],
   "source": [
    "tup1=(1,)\n",
    "print(tup1)"
   ]
  },
  {
   "cell_type": "code",
   "execution_count": 91,
   "id": "795748da-7fdd-4789-8892-10ac43db1a22",
   "metadata": {},
   "outputs": [
    {
     "name": "stdout",
     "output_type": "stream",
     "text": [
      "false\n"
     ]
    }
   ],
   "source": [
    "tup1=(1,2,3)\n",
    "tup2=(3,4,5)\n",
    "if tup1==tup2:\n",
    "    print(\"true\")\n",
    "else:\n",
    "    print(\"false\")"
   ]
  },
  {
   "cell_type": "code",
   "execution_count": 92,
   "id": "78a26b78-65e9-4eaf-bca5-051d6b782323",
   "metadata": {},
   "outputs": [
    {
     "name": "stdout",
     "output_type": "stream",
     "text": [
      "(2, 3, 4)\n"
     ]
    }
   ],
   "source": [
    "tup=(1,2,3,4,2,5,2,4,6,3,7)\n",
    "print(tup[1:4])"
   ]
  },
  {
   "cell_type": "code",
   "execution_count": 93,
   "id": "2697b0f3-fcb4-4f4c-92dd-e961d1810315",
   "metadata": {},
   "outputs": [
    {
     "name": "stdout",
     "output_type": "stream",
     "text": [
      "7\n"
     ]
    }
   ],
   "source": [
    "tup=(1,2,3,4,2,5,2,4,6,3,7)\n",
    "print(max(tup))"
   ]
  },
  {
   "cell_type": "code",
   "execution_count": 94,
   "id": "e6c8447a-818b-40cb-99b8-7a2ba3353806",
   "metadata": {},
   "outputs": [
    {
     "name": "stdout",
     "output_type": "stream",
     "text": [
      "1\n"
     ]
    }
   ],
   "source": [
    "tup=(1,2,3,4,2,5,2,4,6,3,7)\n",
    "print(min(tup))"
   ]
  },
  {
   "cell_type": "code",
   "execution_count": 95,
   "id": "9bbd4d9f-546d-4357-9c5f-79674b3a9197",
   "metadata": {},
   "outputs": [
    {
     "name": "stdout",
     "output_type": "stream",
     "text": [
      "('a', 'e', 'r', 'o', 'p', 'l', 'a', 'n', 'e')\n"
     ]
    }
   ],
   "source": [
    "str1=\"aeroplane\"\n",
    "t=tuple(str1)\n",
    "print(t)"
   ]
  },
  {
   "cell_type": "code",
   "execution_count": 102,
   "id": "05a0df86-6f7b-4233-a560-8847ed9d00a7",
   "metadata": {},
   "outputs": [
    {
     "name": "stdout",
     "output_type": "stream",
     "text": [
      "hey\n"
     ]
    }
   ],
   "source": [
    "tup=('h','e','y')\n",
    "str2=\"\"\n",
    "for i in tup:\n",
    "    str2=str2+i\n",
    "print(str2)"
   ]
  },
  {
   "cell_type": "code",
   "execution_count": 104,
   "id": "244f7a5d-8453-4ebe-bf12-4e6862785bfa",
   "metadata": {},
   "outputs": [
    {
     "name": "stdout",
     "output_type": "stream",
     "text": [
      "(1, 2, 3, 'a', 'b', 'c')\n"
     ]
    }
   ],
   "source": [
    "t=(1,2,3,'a','b','c')\n",
    "print(t)\n"
   ]
  },
  {
   "cell_type": "code",
   "execution_count": 105,
   "id": "764d59e1-9bdb-4df2-b100-204eac70ce4e",
   "metadata": {},
   "outputs": [
    {
     "name": "stdout",
     "output_type": "stream",
     "text": [
      "identical tuple\n"
     ]
    }
   ],
   "source": [
    "t1=(1,2,3,4)\n",
    "t2=(1,2,3,4)\n",
    "if t1==t2:\n",
    "    print(\"identical tuple\")"
   ]
  },
  {
   "cell_type": "code",
   "execution_count": 117,
   "id": "d5dd8828-5faf-44d9-9ca2-3e0c1e0c612f",
   "metadata": {},
   "outputs": [
    {
     "name": "stdout",
     "output_type": "stream",
     "text": [
      "(1, 2, 3, 4, 5, 6, 7, 8)\n"
     ]
    }
   ],
   "source": [
    "tup = (5, 2, 8, 3, 1, 6, 7, 4)  \n",
    "a = tuple(sorted(tup))  \n",
    "print(a)  "
   ]
  },
  {
   "cell_type": "code",
   "execution_count": 118,
   "id": "ee49d45e-ca1b-4ca6-aa7b-02732ad2885b",
   "metadata": {},
   "outputs": [
    {
     "name": "stdout",
     "output_type": "stream",
     "text": [
      "(1, 2, 3, 4, 5, 6)\n"
     ]
    }
   ],
   "source": [
    "tup1=(1,2,3)\n",
    "tup2=(4,5,6)\n",
    "tup3=tup1+tup2\n",
    "print(tup3)"
   ]
  },
  {
   "cell_type": "code",
   "execution_count": 1,
   "id": "46b8af6b-7df8-4e94-b2b5-dc0df5cb3f8a",
   "metadata": {},
   "outputs": [
    {
     "name": "stdout",
     "output_type": "stream",
     "text": [
      "palindrome\n"
     ]
    }
   ],
   "source": [
    "tup1=(1,2,3,2,1)\n",
    "tup2=tup1[::-1]\n",
    "if tup1==tup2:\n",
    "    print(\"palindrome\")"
   ]
  },
  {
   "cell_type": "code",
   "execution_count": 2,
   "id": "53416a94-390b-49f9-88ae-39b429313bfa",
   "metadata": {},
   "outputs": [
    {
     "name": "stdout",
     "output_type": "stream",
     "text": [
      "(1, 4, 9, 16, 25)\n"
     ]
    }
   ],
   "source": [
    "l=[]\n",
    "for i in range(1,6):\n",
    "    l.append(i*i)\n",
    "print(tuple(l))\n",
    "    "
   ]
  },
  {
   "cell_type": "code",
   "execution_count": 3,
   "id": "d3fa0468-ec80-47a1-aa59-e9406726bebb",
   "metadata": {},
   "outputs": [
    {
     "name": "stdout",
     "output_type": "stream",
     "text": [
      "2\n",
      "4\n",
      "6\n"
     ]
    }
   ],
   "source": [
    "t=(1,2,3,4,5,6)\n",
    "for i in t:\n",
    "    if i%2==0:\n",
    "        print(i)\n",
    "        "
   ]
  },
  {
   "cell_type": "code",
   "execution_count": 4,
   "id": "b86ee87b-7e1e-4819-b44b-ad19e9289359",
   "metadata": {},
   "outputs": [
    {
     "name": "stdout",
     "output_type": "stream",
     "text": [
      "(1, 2, 3, 4, 5, 6, 2, 4, 6, 8, 10, 12)\n"
     ]
    }
   ],
   "source": [
    "t=(1,2,3,4,5,6)\n",
    "l=list(t)\n",
    "for i in t:\n",
    "    l.append(i*2)\n",
    "print(tuple(l))"
   ]
  },
  {
   "cell_type": "code",
   "execution_count": 6,
   "id": "67fc808b-ca34-4088-8451-2a54f401682f",
   "metadata": {},
   "outputs": [
    {
     "name": "stdout",
     "output_type": "stream",
     "text": [
      "(34, 41, 17, 52, 6, 62, 83, 77, 9, 68)\n"
     ]
    }
   ],
   "source": [
    "import random\n",
    "l=[]\n",
    "n=10\n",
    "for i in range(n):\n",
    "    l.append(random.randint(1,100))\n",
    "print(tuple(l))"
   ]
  },
  {
   "cell_type": "code",
   "execution_count": 8,
   "id": "90eb1f91-184e-4ae1-b8e6-f630bdcd5c11",
   "metadata": {},
   "outputs": [
    {
     "name": "stdout",
     "output_type": "stream",
     "text": [
      "not sorted tuple\n"
     ]
    }
   ],
   "source": [
    "t=(2,1,5,4,9,3)\n",
    "if t==sorted(t):\n",
    "    print(\"sorted tuple\")\n",
    "else:\n",
    "    print(\"not sorted tuple\")"
   ]
  },
  {
   "cell_type": "code",
   "execution_count": 9,
   "id": "c631601c-514b-4d47-96c1-566b2c3f2f37",
   "metadata": {},
   "outputs": [
    {
     "name": "stdout",
     "output_type": "stream",
     "text": [
      "(4, 5, 1, 2, 3)\n"
     ]
    }
   ],
   "source": [
    "lst=[1,2,3,4,5]\n",
    "lst=lst[3:]+lst[:3]\n",
    "print(tuple(lst))"
   ]
  },
  {
   "cell_type": "code",
   "execution_count": 10,
   "id": "e1689d68-1491-4bed-b5d5-c3f14388f3f7",
   "metadata": {},
   "outputs": [
    {
     "name": "stdout",
     "output_type": "stream",
     "text": [
      "(1, 2, 6, 24, 120, 720, 5040, 40320, 362880, 3628800)\n"
     ]
    }
   ],
   "source": [
    "import math\n",
    "lst=[]\n",
    "for i in range(1,11):\n",
    "    m=(math.factorial(i))\n",
    "    lst.append(m)\n",
    "print(tuple(lst))"
   ]
  },
  {
   "cell_type": "code",
   "execution_count": 11,
   "id": "12f9da39-9db3-4ae6-9a43-39af1de581e3",
   "metadata": {},
   "outputs": [
    {
     "name": "stdin",
     "output_type": "stream",
     "text": [
      "enter number for tuple:  1 2 3 4 5 6 \n"
     ]
    },
    {
     "name": "stdout",
     "output_type": "stream",
     "text": [
      "('1', '2', '3', '4', '5', '6')\n"
     ]
    }
   ],
   "source": [
    "t=tuple(input(\"enter number for tuple: \").split())\n",
    "print(t)"
   ]
  },
  {
   "cell_type": "code",
   "execution_count": 12,
   "id": "441cdd01-62df-4998-8694-24b64a45a900",
   "metadata": {},
   "outputs": [
    {
     "name": "stdout",
     "output_type": "stream",
     "text": [
      "(65, 23, 19, 90)\n",
      "(65, 23, 90, 19)\n"
     ]
    }
   ],
   "source": [
    "def swapPositions(list, pos1, pos2):\n",
    "    list[pos1], list[pos2] = list[pos2], list[pos1]\n",
    "    return list\n",
    "List = [23, 65, 19, 90]\n",
    "print(tuple(swapPositions(List, 0,1)))\n",
    "print(tuple(swapPositions(List, 2,3)))"
   ]
  },
  {
   "cell_type": "code",
   "execution_count": 13,
   "id": "eab92296-9ffe-4e49-ad2a-813abb19806e",
   "metadata": {},
   "outputs": [
    {
     "name": "stdout",
     "output_type": "stream",
     "text": [
      "banana\n"
     ]
    }
   ],
   "source": [
    "t=('apple','banana','grape','mango')\n",
    "print(max(t,key=len))"
   ]
  },
  {
   "cell_type": "code",
   "execution_count": 14,
   "id": "148e8c32-01a6-47d8-8e84-2a3c2f148b95",
   "metadata": {},
   "outputs": [
    {
     "name": "stdout",
     "output_type": "stream",
     "text": [
      "nut\n"
     ]
    }
   ],
   "source": [
    "t=('apple','banana','grape','mango','nut')\n",
    "print(min(t,key=len))"
   ]
  },
  {
   "cell_type": "code",
   "execution_count": 16,
   "id": "2dfbe71b-b65e-4ae8-b232-3af25872393a",
   "metadata": {},
   "outputs": [
    {
     "name": "stdout",
     "output_type": "stream",
     "text": [
      "(1, 2, 4, 8, 16, 32, 64, 128, 256, 512, 1024)\n"
     ]
    }
   ],
   "source": [
    "l=[]\n",
    "n=10\n",
    "for i in range(0,n+1):\n",
    "    l.append(2**i)\n",
    "print(tuple(l))"
   ]
  },
  {
   "cell_type": "code",
   "execution_count": 17,
   "id": "d0214192-dde3-46c6-9e10-ec175ca8b360",
   "metadata": {},
   "outputs": [
    {
     "name": "stdin",
     "output_type": "stream",
     "text": [
      "enter a number for triangular number: 6\n"
     ]
    },
    {
     "name": "stdout",
     "output_type": "stream",
     "text": [
      "(0, 1, 3, 6, 10, 15, 21)\n"
     ]
    }
   ],
   "source": [
    "lst=[]\n",
    "num=int(input(\"enter a number for triangular number:\"))\n",
    "for i in range(0,num+1):\n",
    "    m=int((i*(i+1))/2)\n",
    "    lst.append(m)\n",
    "print(tuple(lst))"
   ]
  },
  {
   "cell_type": "code",
   "execution_count": 21,
   "id": "10299240-8c3f-4503-bb6a-6ae1391f1c05",
   "metadata": {},
   "outputs": [
    {
     "name": "stdout",
     "output_type": "stream",
     "text": [
      "true\n"
     ]
    }
   ],
   "source": [
    "t1=(1,2,3,4,5,6,7,8,9)\n",
    "t2=(2,3,4)\n",
    "s1=set(t1)\n",
    "s2=set(t2)\n",
    "if s2<=s1:\n",
    "    print(\"true\")\n",
    "else:\n",
    "    print(\"false\")"
   ]
  },
  {
   "cell_type": "code",
   "execution_count": 24,
   "id": "7e1ee516-a5ff-4385-9dcc-7b59e8332659",
   "metadata": {},
   "outputs": [
    {
     "name": "stdout",
     "output_type": "stream",
     "text": [
      "(0, 1, 0, 1, 0, 1, 0, 1, 0, 1, 0)\n"
     ]
    }
   ],
   "source": [
    "l=[]\n",
    "n=10\n",
    "for i in range(0,n+1):\n",
    "    if i%2==0:\n",
    "        l.append(0)\n",
    "    else:\n",
    "        l.append(1)\n",
    "print(tuple(l))\n",
    "    "
   ]
  },
  {
   "cell_type": "code",
   "execution_count": 25,
   "id": "a9e49113-4e6d-4077-bc4c-2095fd72357d",
   "metadata": {},
   "outputs": [
    {
     "name": "stdout",
     "output_type": "stream",
     "text": [
      "{1, 2, 3, 4, 5}\n"
     ]
    }
   ],
   "source": [
    "s={1,2,3,4,5}\n",
    "print(s)"
   ]
  },
  {
   "cell_type": "code",
   "execution_count": 26,
   "id": "5cfa3125-27fa-4a48-944f-f2a4c38ce02e",
   "metadata": {},
   "outputs": [
    {
     "name": "stdout",
     "output_type": "stream",
     "text": [
      "{1, 2, 3, 4, 5, 6}\n"
     ]
    }
   ],
   "source": [
    "s={1,2,3,4,5}\n",
    "s.add(6)\n",
    "print(s)"
   ]
  },
  {
   "cell_type": "code",
   "execution_count": 27,
   "id": "66877034-2631-4662-a29a-c2b894c1f2bf",
   "metadata": {},
   "outputs": [
    {
     "name": "stdout",
     "output_type": "stream",
     "text": [
      "{1, 2, 3, 5}\n"
     ]
    }
   ],
   "source": [
    "s={1,2,3,4,5}\n",
    "s.remove(4)\n",
    "print(s)"
   ]
  },
  {
   "cell_type": "code",
   "execution_count": 28,
   "id": "70f6e583-6312-4b7e-b604-b021742718d8",
   "metadata": {},
   "outputs": [
    {
     "name": "stdout",
     "output_type": "stream",
     "text": [
      "True\n"
     ]
    }
   ],
   "source": [
    "s={1,2,3,4,5}\n",
    "print(2 in s)"
   ]
  },
  {
   "cell_type": "code",
   "execution_count": 30,
   "id": "2d48c4dd-467a-4e98-9561-ee107aae2927",
   "metadata": {},
   "outputs": [
    {
     "name": "stdout",
     "output_type": "stream",
     "text": [
      "5\n"
     ]
    }
   ],
   "source": [
    "s={1,2,3,4,5}\n",
    "count=0\n",
    "for i in s:\n",
    "    count=count+1\n",
    "print(count)"
   ]
  },
  {
   "cell_type": "code",
   "execution_count": 31,
   "id": "dcecc8a5-7814-4e34-9d23-7dc6b28aa7ea",
   "metadata": {},
   "outputs": [
    {
     "name": "stdout",
     "output_type": "stream",
     "text": [
      "set()\n"
     ]
    }
   ],
   "source": [
    "s={1,2,3,4,5}\n",
    "s.clear()\n",
    "print(s)"
   ]
  },
  {
   "cell_type": "code",
   "execution_count": 35,
   "id": "8556d47e-9623-4bfd-bbae-6c142f841f6e",
   "metadata": {},
   "outputs": [
    {
     "name": "stdout",
     "output_type": "stream",
     "text": [
      "{2, 4, 6, 8, 10}\n"
     ]
    }
   ],
   "source": [
    "s=set()\n",
    "for i in range(1,11):\n",
    "    if i%2==0:\n",
    "        s.add(i)\n",
    "print(s)"
   ]
  },
  {
   "cell_type": "code",
   "execution_count": 36,
   "id": "9b7cdc09-e9f8-44ac-9a4f-a8f280182480",
   "metadata": {},
   "outputs": [
    {
     "name": "stdout",
     "output_type": "stream",
     "text": [
      "{1, 3, 5, 7, 9}\n"
     ]
    }
   ],
   "source": [
    "s=set()\n",
    "for i in range(1,11):\n",
    "    if i%2!=0:\n",
    "        s.add(i)\n",
    "print(s)"
   ]
  },
  {
   "cell_type": "code",
   "execution_count": 37,
   "id": "06bfd3b9-1174-47e7-b73d-61954665f1b8",
   "metadata": {},
   "outputs": [
    {
     "name": "stdout",
     "output_type": "stream",
     "text": [
      "{2, 4, 5, 6, 7, 8}\n"
     ]
    }
   ],
   "source": [
    "a={2, 4, 5, 6}\n",
    "b={4, 6, 7, 8}\n",
    "s=a.union(b)\n",
    "print(s)"
   ]
  },
  {
   "cell_type": "code",
   "execution_count": 40,
   "id": "ae41d6bc-0e72-4c74-9746-05feda01b09d",
   "metadata": {},
   "outputs": [
    {
     "name": "stdout",
     "output_type": "stream",
     "text": [
      "{4, 6}\n"
     ]
    }
   ],
   "source": [
    "a={2,4,5,6}\n",
    "b={4,6,7,8}\n",
    "s=a.intersection(b)\n",
    "print(s)"
   ]
  },
  {
   "cell_type": "code",
   "execution_count": 39,
   "id": "9c2a5335-ad18-4975-8b8d-a50977437c7f",
   "metadata": {},
   "outputs": [
    {
     "name": "stdout",
     "output_type": "stream",
     "text": [
      "{2, 5}\n"
     ]
    }
   ],
   "source": [
    "a={2,4,5,6}\n",
    "b={4,6,7,8}\n",
    "s=a-b\n",
    "print(s)"
   ]
  },
  {
   "cell_type": "code",
   "execution_count": 44,
   "id": "cad185c0-acfb-494f-a6fa-abbb704eb758",
   "metadata": {},
   "outputs": [
    {
     "name": "stdout",
     "output_type": "stream",
     "text": [
      "s1 is subset of s\n"
     ]
    }
   ],
   "source": [
    "s={1,2,3,4,5,6}\n",
    "s1={2,3,4}\n",
    "if s1<=s:\n",
    "    print(\"s1 is subset of s\")\n",
    "else:\n",
    "    print(\"not subset\")"
   ]
  },
  {
   "cell_type": "code",
   "execution_count": 45,
   "id": "ba536c55-1bfc-49ab-bb21-da8f5677218a",
   "metadata": {},
   "outputs": [
    {
     "name": "stdout",
     "output_type": "stream",
     "text": [
      "s1 is superset of s\n"
     ]
    }
   ],
   "source": [
    "s={1,2,3,4,5,6}\n",
    "s1={2,3,4}\n",
    "if s>=s1:\n",
    "    print(\"s1 is superset of s\")\n",
    "else:\n",
    "    print(\"not superset\")"
   ]
  },
  {
   "cell_type": "code",
   "execution_count": 46,
   "id": "ca5c6db1-6fd9-4ccc-9fcb-9d56992d0b2f",
   "metadata": {},
   "outputs": [
    {
     "name": "stdout",
     "output_type": "stream",
     "text": [
      "{1, 2, 3, 4, 5, 6, 9}\n"
     ]
    }
   ],
   "source": [
    "l=[1,2,6,3,9,5]\n",
    "for i in l:\n",
    "    s.add(i)\n",
    "print(s)"
   ]
  },
  {
   "cell_type": "code",
   "execution_count": 47,
   "id": "65179860-8e55-4d89-8b97-b6cd7eb2b09f",
   "metadata": {},
   "outputs": [
    {
     "name": "stdout",
     "output_type": "stream",
     "text": [
      "[1, 2, 3, 4]\n"
     ]
    }
   ],
   "source": [
    "s={1,2,3,4}\n",
    "l=list(s)\n",
    "print(l)"
   ]
  },
  {
   "cell_type": "code",
   "execution_count": 49,
   "id": "9d33656c-bc0b-4f93-9c98-a141d88b04e5",
   "metadata": {},
   "outputs": [
    {
     "name": "stdout",
     "output_type": "stream",
     "text": [
      "{1, 2, 3}\n"
     ]
    }
   ],
   "source": [
    "s={1,2,3,4}\n",
    "s.remove(4)\n",
    "print(s)"
   ]
  },
  {
   "cell_type": "code",
   "execution_count": 50,
   "id": "ab8c8ef0-6a17-4f68-af3a-0435977af452",
   "metadata": {},
   "outputs": [
    {
     "name": "stdout",
     "output_type": "stream",
     "text": [
      "{2, 3, 4}\n"
     ]
    }
   ],
   "source": [
    "s={1,2,3,4}\n",
    "s.pop()\n",
    "print(s)"
   ]
  },
  {
   "cell_type": "code",
   "execution_count": 54,
   "id": "55e68318-8a55-44c8-88fc-3e46a5773afe",
   "metadata": {},
   "outputs": [
    {
     "name": "stdout",
     "output_type": "stream",
     "text": [
      "there is no common element\n"
     ]
    }
   ],
   "source": [
    "s1={1,2,3,4}\n",
    "s2={5,6,7,8}\n",
    "s=s1.isdisjoint(s2)\n",
    "if s==True:\n",
    "    print(\"there is no common element\")\n",
    "else:\n",
    "    print(\"there is common element\")"
   ]
  },
  {
   "cell_type": "code",
   "execution_count": 55,
   "id": "d85a6526-113f-4fd5-b445-a9efe19250ca",
   "metadata": {},
   "outputs": [
    {
     "name": "stdout",
     "output_type": "stream",
     "text": [
      "{1, 2, 5, 6, 7, 9}\n"
     ]
    }
   ],
   "source": [
    "a={1,2,3,4,5}\n",
    "b={6,7,3,9,4}\n",
    "print(a.symmetric_difference(b))"
   ]
  },
  {
   "cell_type": "code",
   "execution_count": 57,
   "id": "71717b41-3c7b-4abe-b6d7-dcb9f6a50af5",
   "metadata": {},
   "outputs": [
    {
     "name": "stdout",
     "output_type": "stream",
     "text": [
      "{1, 2, 3, 4, 5, 6, 7, 9}\n"
     ]
    }
   ],
   "source": [
    "a={1,2,3,4,5}\n",
    "b={6,7,3,9,4}\n",
    "print(a.union(b))"
   ]
  },
  {
   "cell_type": "code",
   "execution_count": 58,
   "id": "f5fa9526-5337-47de-86c9-30fdf507362f",
   "metadata": {},
   "outputs": [
    {
     "name": "stdout",
     "output_type": "stream",
     "text": [
      "identical\n"
     ]
    }
   ],
   "source": [
    "s1={1,2,3}\n",
    "s2={1,2,3}\n",
    "if s1==s2:\n",
    "    print(\"identical\")"
   ]
  },
  {
   "cell_type": "code",
   "execution_count": 59,
   "id": "e808d902-2a26-40b4-a365-9e5f878b713f",
   "metadata": {},
   "outputs": [
    {
     "name": "stdout",
     "output_type": "stream",
     "text": [
      "True\n"
     ]
    }
   ],
   "source": [
    "animals = frozenset([\"cat\", \"dog\", \"lion\"])\n",
    "print(\"cat\" in animals)"
   ]
  },
  {
   "cell_type": "code",
   "execution_count": 60,
   "id": "c69b5cba-a266-4b90-8c71-4f6922a935ee",
   "metadata": {},
   "outputs": [
    {
     "name": "stdout",
     "output_type": "stream",
     "text": [
      "disjoint\n"
     ]
    }
   ],
   "source": [
    "s1={1,2,3,4}\n",
    "s2={5,6,7,8}\n",
    "s=s1.isdisjoint(s2)\n",
    "if s==True:\n",
    "    print(\"disjoint\")\n",
    "else:\n",
    "    print(\"not disjoint\")"
   ]
  },
  {
   "cell_type": "code",
   "execution_count": 61,
   "id": "9049ed46-9d8e-45f8-b435-38f4c427d7ac",
   "metadata": {},
   "outputs": [
    {
     "name": "stdout",
     "output_type": "stream",
     "text": [
      "{1, 4, 9, 16, 25}\n"
     ]
    }
   ],
   "source": [
    "s=set()\n",
    "for i in range(1,6):\n",
    "    s.add(i**2)\n",
    "print(s)"
   ]
  },
  {
   "cell_type": "code",
   "execution_count": 3,
   "id": "25213147-21f2-4e11-b557-cd5455911ad4",
   "metadata": {},
   "outputs": [
    {
     "name": "stdout",
     "output_type": "stream",
     "text": [
      "{33, 35, 74, 75, 46, 19, 53, 54, 95}\n"
     ]
    }
   ],
   "source": [
    "import random\n",
    "s=set()\n",
    "for i in range(1,10):\n",
    "    s.add(random.randint(1,100))\n",
    "print(s)"
   ]
  },
  {
   "cell_type": "code",
   "execution_count": null,
   "id": "d3951ef7-6fbd-49e5-943f-1e1baddbb4b9",
   "metadata": {},
   "outputs": [],
   "source": []
  }
 ],
 "metadata": {
  "kernelspec": {
   "display_name": "Python 3 (ipykernel)",
   "language": "python",
   "name": "python3"
  },
  "language_info": {
   "codemirror_mode": {
    "name": "ipython",
    "version": 3
   },
   "file_extension": ".py",
   "mimetype": "text/x-python",
   "name": "python",
   "nbconvert_exporter": "python",
   "pygments_lexer": "ipython3",
   "version": "3.10.8"
  },
  "toc-showcode": true,
  "toc-showtags": false
 },
 "nbformat": 4,
 "nbformat_minor": 5
}
